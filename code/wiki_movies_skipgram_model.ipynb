{
 "cells": [
  {
   "cell_type": "markdown",
   "metadata": {
    "toc": true
   },
   "source": [
    "<h1>Table of Contents<span class=\"tocSkip\"></span></h1>\n",
    "<div class=\"toc\"><ul class=\"toc-item\"><li><span><a href=\"#Wiki-Movies---Model-for-Word-Similarities-and-Analogies\" data-toc-modified-id=\"Wiki-Movies---Model-for-Word-Similarities-and-Analogies-1\"><span class=\"toc-item-num\">1&nbsp;&nbsp;</span>Wiki Movies - Model for Word Similarities and Analogies</a></span><ul class=\"toc-item\"><li><span><a href=\"#Load-Vectors\" data-toc-modified-id=\"Load-Vectors-1.1\"><span class=\"toc-item-num\">1.1&nbsp;&nbsp;</span>Load Vectors</a></span></li><li><span><a href=\"#Most-Similar-Words\" data-toc-modified-id=\"Most-Similar-Words-1.2\"><span class=\"toc-item-num\">1.2&nbsp;&nbsp;</span>Most Similar Words</a></span></li><li><span><a href=\"#Analogies\" data-toc-modified-id=\"Analogies-1.3\"><span class=\"toc-item-num\">1.3&nbsp;&nbsp;</span>Analogies</a></span></li><li><span><a href=\"#Pickling-the-Model\" data-toc-modified-id=\"Pickling-the-Model-1.4\"><span class=\"toc-item-num\">1.4&nbsp;&nbsp;</span>Pickling the Model</a></span></li></ul></li></ul></div>"
   ]
  },
  {
   "cell_type": "markdown",
   "metadata": {},
   "source": [
    "# Wiki Movies - Model for Word Similarities and Analogies"
   ]
  },
  {
   "cell_type": "code",
   "execution_count": 1,
   "metadata": {
    "ExecuteTime": {
     "end_time": "2019-09-12T17:30:34.852319Z",
     "start_time": "2019-09-12T17:30:30.692877Z"
    }
   },
   "outputs": [],
   "source": [
    "from gensim.models import KeyedVectors\n",
    "import pickle"
   ]
  },
  {
   "cell_type": "markdown",
   "metadata": {},
   "source": [
    "## Load Vectors"
   ]
  },
  {
   "cell_type": "code",
   "execution_count": 2,
   "metadata": {
    "ExecuteTime": {
     "end_time": "2019-09-12T17:32:41.871429Z",
     "start_time": "2019-09-12T17:30:40.980142Z"
    },
    "scrolled": true
   },
   "outputs": [
    {
     "name": "stderr",
     "output_type": "stream",
     "text": [
      "C:\\Users\\tengw\\Anaconda3\\envs\\dsi\\lib\\site-packages\\smart_open\\smart_open_lib.py:398: UserWarning: This function is deprecated, use smart_open.open instead. See the migration notes for details: https://github.com/RaRe-Technologies/smart_open/blob/master/README.rst#migrating-to-the-new-open-function\n",
      "  'See the migration notes for details: %s' % _MIGRATION_NOTES_URL\n"
     ]
    }
   ],
   "source": [
    "model = KeyedVectors.load_word2vec_format('../data/wiki_movies_skipgram.vec') "
   ]
  },
  {
   "cell_type": "code",
   "execution_count": 3,
   "metadata": {
    "ExecuteTime": {
     "end_time": "2019-09-12T17:32:53.170911Z",
     "start_time": "2019-09-12T17:32:53.163118Z"
    }
   },
   "outputs": [],
   "source": [
    "vector = model['easy']"
   ]
  },
  {
   "cell_type": "code",
   "execution_count": 4,
   "metadata": {
    "ExecuteTime": {
     "end_time": "2019-09-12T17:32:54.559217Z",
     "start_time": "2019-09-12T17:32:54.544398Z"
    }
   },
   "outputs": [
    {
     "data": {
      "text/plain": [
       "(300,)"
      ]
     },
     "execution_count": 4,
     "metadata": {},
     "output_type": "execute_result"
    }
   ],
   "source": [
    "vector.shape"
   ]
  },
  {
   "cell_type": "markdown",
   "metadata": {},
   "source": [
    "## Most Similar Words"
   ]
  },
  {
   "cell_type": "code",
   "execution_count": 5,
   "metadata": {
    "ExecuteTime": {
     "end_time": "2019-09-12T17:33:07.498590Z",
     "start_time": "2019-09-12T17:33:06.653757Z"
    }
   },
   "outputs": [
    {
     "data": {
      "text/plain": [
       "['thriller',\n",
       " 'fantasy',\n",
       " 'zombi_kampung_pisang',\n",
       " 'jangan_pandang_belakang',\n",
       " 'the_creeping_flesh',\n",
       " 'suspense',\n",
       " 'diamond_is_unbreakable_chapter_i',\n",
       " 'susan_denberg',\n",
       " 'the_skull',\n",
       " 'freddie_francis']"
      ]
     },
     "execution_count": 5,
     "metadata": {},
     "output_type": "execute_result"
    }
   ],
   "source": [
    "[i[0] for i in model.most_similar('horror')]"
   ]
  },
  {
   "cell_type": "code",
   "execution_count": 7,
   "metadata": {
    "ExecuteTime": {
     "end_time": "2019-09-12T17:33:30.426335Z",
     "start_time": "2019-09-12T17:33:30.393738Z"
    }
   },
   "outputs": [
    {
     "data": {
      "text/plain": [
       "['strzelczyk',\n",
       " 'nba',\n",
       " 'grambling',\n",
       " 'quarterback',\n",
       " 'football',\n",
       " 'players',\n",
       " 'rowdiness',\n",
       " 'varsity',\n",
       " 'yoast',\n",
       " 'collegiate']"
      ]
     },
     "execution_count": 7,
     "metadata": {},
     "output_type": "execute_result"
    }
   ],
   "source": [
    "[i[0] for i in model.most_similar('new_england_patriots')]"
   ]
  },
  {
   "cell_type": "code",
   "execution_count": 6,
   "metadata": {
    "scrolled": true
   },
   "outputs": [
    {
     "data": {
      "text/plain": [
       "[('animals', 0.5419318079948425),\n",
       " ('creatures', 0.4418286979198456),\n",
       " ('flightless', 0.4401007890701294),\n",
       " ('chirping', 0.4305436909198761),\n",
       " ('herbivorous', 0.426063597202301),\n",
       " ('lifeforms', 0.4224800169467926),\n",
       " ('ants', 0.41809624433517456),\n",
       " ('outswim', 0.4129638969898224),\n",
       " ('frilled', 0.41110315918922424),\n",
       " ('prehistoric', 0.4096958637237549)]"
      ]
     },
     "execution_count": 6,
     "metadata": {},
     "output_type": "execute_result"
    }
   ],
   "source": [
    "model.most_similar(\"birds\")"
   ]
  },
  {
   "cell_type": "code",
   "execution_count": 7,
   "metadata": {
    "scrolled": true
   },
   "outputs": [
    {
     "data": {
      "text/plain": [
       "[('tippi_hedren', 0.8630478382110596),\n",
       " ('jessie_royce_landis', 0.8474868535995483),\n",
       " ('the_caretakers', 0.8341970443725586),\n",
       " ('christine_kaufmann', 0.824510931968689),\n",
       " ('little_miss_marker', 0.8147392272949219),\n",
       " ('john_williams', 0.8139524459838867),\n",
       " ('lila_kedrova', 0.8134890794754028),\n",
       " ('genevieve_page', 0.8129274845123291),\n",
       " ('rear_window', 0.8084604144096375),\n",
       " ('susan_hart', 0.8084526658058167)]"
      ]
     },
     "execution_count": 7,
     "metadata": {},
     "output_type": "execute_result"
    }
   ],
   "source": [
    "model.most_similar(\"the_birds\")"
   ]
  },
  {
   "cell_type": "code",
   "execution_count": 8,
   "metadata": {},
   "outputs": [
    {
     "data": {
      "text/plain": [
       "[('al_martino', 0.9265987873077393),\n",
       " ('abe_vigoda', 0.8885045051574707),\n",
       " ('gianni_russo', 0.8796631097793579),\n",
       " ('the_godfather_part_iii', 0.8777519464492798),\n",
       " ('john_marley', 0.8704231977462769),\n",
       " ('al_lettieri', 0.8658926486968994),\n",
       " ('william_goldwyn', 0.8648937940597534),\n",
       " ('alex_rocco', 0.8628897070884705),\n",
       " ('true_confessions', 0.8568651080131531),\n",
       " ('dog_day_afternoon', 0.8535152673721313)]"
      ]
     },
     "execution_count": 8,
     "metadata": {},
     "output_type": "execute_result"
    }
   ],
   "source": [
    "model.most_similar(\"the_godfather\")"
   ]
  },
  {
   "cell_type": "code",
   "execution_count": 9,
   "metadata": {},
   "outputs": [
    {
     "data": {
      "text/plain": [
       "[('episode_iii_', 0.8687105774879456),\n",
       " ('revenge_of_the_sith', 0.8597186803817749),\n",
       " ('episode_i_', 0.8422971963882446),\n",
       " ('george_lucas', 0.8319464921951294),\n",
       " ('the_phantom_menace_3d', 0.8178740739822388),\n",
       " ('episode_ii_', 0.8144951462745667),\n",
       " ('the_last_jedi', 0.8084115982055664),\n",
       " ('revenge_of_the_fallen', 0.8049204349517822),\n",
       " ('the_spirit', 0.7976926565170288),\n",
       " ('attack_of_the_clones', 0.7968152761459351)]"
      ]
     },
     "execution_count": 9,
     "metadata": {},
     "output_type": "execute_result"
    }
   ],
   "source": [
    "model.most_similar(\"star_wars\")"
   ]
  },
  {
   "cell_type": "code",
   "execution_count": 10,
   "metadata": {
    "scrolled": true
   },
   "outputs": [
    {
     "data": {
      "text/plain": [
       "[('episode_iii_', 0.8843144178390503),\n",
       " ('episode_i_', 0.8653849959373474),\n",
       " ('star_wars_episode_iv', 0.8623008728027344),\n",
       " ('revenge_of_the_sith', 0.8565341234207153),\n",
       " ('aka_star_wars', 0.8565229177474976),\n",
       " ('episode_ii_', 0.843536376953125),\n",
       " ('don_pedro_colley', 0.8422558307647705),\n",
       " ('a_new_hope_', 0.8416002988815308),\n",
       " ('the_last_jedi', 0.8399496078491211),\n",
       " ('jake_lloyd', 0.8396631479263306)]"
      ]
     },
     "execution_count": 10,
     "metadata": {},
     "output_type": "execute_result"
    }
   ],
   "source": [
    "model.most_similar(\"george_lucas\")"
   ]
  },
  {
   "cell_type": "code",
   "execution_count": 11,
   "metadata": {},
   "outputs": [
    {
     "data": {
      "text/plain": [
       "[('jurassic_park', 0.7097160816192627),\n",
       " ('mark_rylance', 0.7046800851821899),\n",
       " ('the_secret_of_the_unicorn', 0.7044629454612732),\n",
       " ('empire_of_the_sun', 0.7018272876739502),\n",
       " ('the_adventures_of_tintin', 0.7003572583198547),\n",
       " ('raz_degan', 0.6986149549484253),\n",
       " ('ronald_lacey', 0.6980620622634888),\n",
       " ('men_in_black_ii', 0.6979867815971375),\n",
       " ('artificial_intelligence', 0.6963874101638794),\n",
       " ('indiana_jones_and_the_last_crusade', 0.6954659223556519)]"
      ]
     },
     "execution_count": 11,
     "metadata": {},
     "output_type": "execute_result"
    }
   ],
   "source": [
    "model.most_similar(\"steven_spielberg\")"
   ]
  },
  {
   "cell_type": "code",
   "execution_count": 12,
   "metadata": {},
   "outputs": [
    {
     "data": {
      "text/plain": [
       "[('drama', 0.8038763403892517),\n",
       " ('thriller', 0.7034784555435181),\n",
       " ('romance', 0.6818170547485352),\n",
       " ('action', 0.6633414030075073),\n",
       " ('vivegam', 0.5446704626083374),\n",
       " ('raj_nidimoru_and_krishna_dk', 0.5441793203353882),\n",
       " ('jayendra', 0.5441448092460632),\n",
       " ('goshta_choti_dongraevadhi', 0.5395052433013916),\n",
       " ('nelalu', 0.5394408702850342),\n",
       " ('chandrettan', 0.5375779867172241)]"
      ]
     },
     "execution_count": 12,
     "metadata": {},
     "output_type": "execute_result"
    }
   ],
   "source": [
    "model.most_similar(\"comedy\")"
   ]
  },
  {
   "cell_type": "markdown",
   "metadata": {},
   "source": [
    "## Analogies"
   ]
  },
  {
   "cell_type": "code",
   "execution_count": 25,
   "metadata": {},
   "outputs": [],
   "source": [
    "# Define analogy function.\n",
    "def analogy(x1, x2, y1):\n",
    "    \n",
    "    # Find the vector y2 that is closest to $-x1 + x2 + y1$.\n",
    "    y2 = model.most_similar(positive = [x2, y1],\n",
    "                            negative = [x1]\n",
    "                           )\n",
    "    \n",
    "    # Return the result.\n",
    "    return y2[0:5]"
   ]
  },
  {
   "cell_type": "code",
   "execution_count": 26,
   "metadata": {},
   "outputs": [
    {
     "data": {
      "text/plain": [
       "[('lootere', 0.5962086319923401),\n",
       " ('because_i_said_so', 0.5894933938980103),\n",
       " ('just_married', 0.588087260723114),\n",
       " ('autobiography_of_a_princess', 0.5839359760284424),\n",
       " ('hum_tum', 0.583491325378418)]"
      ]
     },
     "execution_count": 26,
     "metadata": {},
     "output_type": "execute_result"
    }
   ],
   "source": [
    "analogy(\"horror\", \"the_ring\", \"comedy\")"
   ]
  },
  {
   "cell_type": "code",
   "execution_count": 15,
   "metadata": {
    "scrolled": true
   },
   "outputs": [
    {
     "data": {
      "text/plain": [
       "[('comedy', 0.6730602979660034),\n",
       " ('action', 0.614744246006012),\n",
       " ('romance', 0.614338755607605),\n",
       " ('thriller', 0.5946857929229736),\n",
       " ('vaazhthugal', 0.49762749671936035)]"
      ]
     },
     "execution_count": 15,
     "metadata": {},
     "output_type": "execute_result"
    }
   ],
   "source": [
    "analogy(\"brad_pitt\", \"drama\", \"george_clooney\")"
   ]
  },
  {
   "cell_type": "code",
   "execution_count": 16,
   "metadata": {
    "scrolled": true
   },
   "outputs": [
    {
     "data": {
      "text/plain": [
       "[('tim_robbins', 0.6997596025466919),\n",
       " ('benicio_del_toro', 0.6845667362213135),\n",
       " ('lupita_nyong', 0.684239387512207),\n",
       " ('tilda_swinton', 0.6802887320518494),\n",
       " ('javier_bardem', 0.6795772314071655)]"
      ]
     },
     "execution_count": 16,
     "metadata": {},
     "output_type": "execute_result"
    }
   ],
   "source": [
    "analogy(\"drama\", \"brad_pitt\", \"comedy\")"
   ]
  },
  {
   "cell_type": "code",
   "execution_count": 17,
   "metadata": {},
   "outputs": [
    {
     "data": {
      "text/plain": [
       "[('tim_robbins', 0.6997596025466919),\n",
       " ('benicio_del_toro', 0.6845667362213135),\n",
       " ('lupita_nyong', 0.684239387512207),\n",
       " ('tilda_swinton', 0.6802887320518494),\n",
       " ('javier_bardem', 0.6795772314071655)]"
      ]
     },
     "execution_count": 17,
     "metadata": {},
     "output_type": "execute_result"
    }
   ],
   "source": [
    "analogy(\"drama\", \"brad_pitt\", \"comedy\")"
   ]
  },
  {
   "cell_type": "markdown",
   "metadata": {},
   "source": [
    "## Pickling the Model"
   ]
  },
  {
   "cell_type": "code",
   "execution_count": 19,
   "metadata": {},
   "outputs": [],
   "source": [
    "pickle.dump(model, open('wiki_movies_model.p', 'wb'))"
   ]
  }
 ],
 "metadata": {
  "kernelspec": {
   "display_name": "Python [conda env:dsi] *",
   "language": "python",
   "name": "conda-env-dsi-py"
  },
  "language_info": {
   "codemirror_mode": {
    "name": "ipython",
    "version": 3
   },
   "file_extension": ".py",
   "mimetype": "text/x-python",
   "name": "python",
   "nbconvert_exporter": "python",
   "pygments_lexer": "ipython3",
   "version": "3.7.3"
  },
  "toc": {
   "base_numbering": 1,
   "nav_menu": {},
   "number_sections": true,
   "sideBar": true,
   "skip_h1_title": false,
   "title_cell": "Table of Contents",
   "title_sidebar": "Contents",
   "toc_cell": true,
   "toc_position": {},
   "toc_section_display": true,
   "toc_window_display": false
  },
  "varInspector": {
   "cols": {
    "lenName": 16,
    "lenType": 16,
    "lenVar": 40
   },
   "kernels_config": {
    "python": {
     "delete_cmd_postfix": "",
     "delete_cmd_prefix": "del ",
     "library": "var_list.py",
     "varRefreshCmd": "print(var_dic_list())"
    },
    "r": {
     "delete_cmd_postfix": ") ",
     "delete_cmd_prefix": "rm(",
     "library": "var_list.r",
     "varRefreshCmd": "cat(var_dic_list()) "
    }
   },
   "types_to_exclude": [
    "module",
    "function",
    "builtin_function_or_method",
    "instance",
    "_Feature"
   ],
   "window_display": false
  }
 },
 "nbformat": 4,
 "nbformat_minor": 2
}
