{
 "cells": [
  {
   "cell_type": "markdown",
   "metadata": {
    "toc": true
   },
   "source": [
    "<h1>Table of Contents<span class=\"tocSkip\"></span></h1>\n",
    "<div class=\"toc\"><ul class=\"toc-item\"><li><span><a href=\"#Wikipedia-News---Model-for-Word-Similarities-and-Analogies\" data-toc-modified-id=\"Wikipedia-News---Model-for-Word-Similarities-and-Analogies-1\"><span class=\"toc-item-num\">1&nbsp;&nbsp;</span>Wikipedia News - Model for Word Similarities and Analogies</a></span><ul class=\"toc-item\"><li><span><a href=\"#Load-Vectors\" data-toc-modified-id=\"Load-Vectors-1.1\"><span class=\"toc-item-num\">1.1&nbsp;&nbsp;</span>Load Vectors</a></span></li><li><span><a href=\"#Most-Similar-Words\" data-toc-modified-id=\"Most-Similar-Words-1.2\"><span class=\"toc-item-num\">1.2&nbsp;&nbsp;</span>Most Similar Words</a></span></li><li><span><a href=\"#Analogies\" data-toc-modified-id=\"Analogies-1.3\"><span class=\"toc-item-num\">1.3&nbsp;&nbsp;</span>Analogies</a></span></li><li><span><a href=\"#Pickling-the-Model\" data-toc-modified-id=\"Pickling-the-Model-1.4\"><span class=\"toc-item-num\">1.4&nbsp;&nbsp;</span>Pickling the Model</a></span></li><li><span><a href=\"#References:\" data-toc-modified-id=\"References:-1.5\"><span class=\"toc-item-num\">1.5&nbsp;&nbsp;</span>References:</a></span></li></ul></li></ul></div>"
   ]
  },
  {
   "cell_type": "markdown",
   "metadata": {},
   "source": [
    "# Wikipedia News - Model for Word Similarities and Analogies"
   ]
  },
  {
   "cell_type": "markdown",
   "metadata": {},
   "source": [
    "- wiki-news-300d-1M.vec: 1 million word vectors trained on Wikipedia 2017, UMBC webbase corpus and statmt.org news dataset (16B tokens). https://fasttext.cc/docs/en/english-vectors.html"
   ]
  },
  {
   "cell_type": "code",
   "execution_count": 1,
   "metadata": {
    "ExecuteTime": {
     "end_time": "2019-08-20T19:11:38.501162Z",
     "start_time": "2019-08-20T19:11:35.454545Z"
    },
    "scrolled": true
   },
   "outputs": [],
   "source": [
    "from gensim.models import KeyedVectors\n",
    "import pickle"
   ]
  },
  {
   "cell_type": "markdown",
   "metadata": {},
   "source": [
    "## Load Vectors"
   ]
  },
  {
   "cell_type": "code",
   "execution_count": 2,
   "metadata": {
    "ExecuteTime": {
     "end_time": "2019-08-20T19:21:17.986984Z",
     "start_time": "2019-08-20T19:11:38.507103Z"
    }
   },
   "outputs": [
    {
     "name": "stderr",
     "output_type": "stream",
     "text": [
      "C:\\Users\\tengw\\Anaconda3\\envs\\dsi\\lib\\site-packages\\smart_open\\smart_open_lib.py:398: UserWarning: This function is deprecated, use smart_open.open instead. See the migration notes for details: https://github.com/RaRe-Technologies/smart_open/blob/master/README.rst#migrating-to-the-new-open-function\n",
      "  'See the migration notes for details: %s' % _MIGRATION_NOTES_URL\n"
     ]
    }
   ],
   "source": [
    "model = KeyedVectors.load_word2vec_format('../data/wiki-news-300d-1M.vec')"
   ]
  },
  {
   "cell_type": "code",
   "execution_count": 3,
   "metadata": {
    "ExecuteTime": {
     "end_time": "2019-08-20T19:21:18.000945Z",
     "start_time": "2019-08-20T19:21:17.992970Z"
    }
   },
   "outputs": [],
   "source": [
    "vector = model['easy']"
   ]
  },
  {
   "cell_type": "code",
   "execution_count": 4,
   "metadata": {
    "ExecuteTime": {
     "end_time": "2019-08-20T19:21:18.074748Z",
     "start_time": "2019-08-20T19:21:18.008979Z"
    }
   },
   "outputs": [
    {
     "data": {
      "text/plain": [
       "(300,)"
      ]
     },
     "execution_count": 4,
     "metadata": {},
     "output_type": "execute_result"
    }
   ],
   "source": [
    "# see the shape of the vector (300,)\n",
    "vector.shape"
   ]
  },
  {
   "cell_type": "code",
   "execution_count": 26,
   "metadata": {
    "ExecuteTime": {
     "end_time": "2019-08-22T15:52:58.663806Z",
     "start_time": "2019-08-22T15:52:58.649814Z"
    },
    "scrolled": true
   },
   "outputs": [
    {
     "data": {
      "text/plain": [
       "array([-0.0543, -0.0994, -0.1814,  0.1298,  0.0816], dtype=float32)"
      ]
     },
     "execution_count": 26,
     "metadata": {},
     "output_type": "execute_result"
    }
   ],
   "source": [
    "vector[:5]"
   ]
  },
  {
   "cell_type": "markdown",
   "metadata": {},
   "source": [
    "## Most Similar Words"
   ]
  },
  {
   "cell_type": "code",
   "execution_count": 5,
   "metadata": {
    "ExecuteTime": {
     "end_time": "2019-08-20T19:21:26.292537Z",
     "start_time": "2019-08-20T19:21:18.080734Z"
    },
    "scrolled": true
   },
   "outputs": [
    {
     "data": {
      "text/plain": [
       "[('hilton', 0.6534506678581238),\n",
       " ('Paris', 0.6495285630226135),\n",
       " ('france', 0.6324440836906433),\n",
       " ('Paris.', 0.606124758720398),\n",
       " ('london', 0.5973514318466187),\n",
       " ('french', 0.5742020606994629),\n",
       " ('amsterdam', 0.5682279467582703),\n",
       " ('marseille', 0.567270815372467),\n",
       " ('moscow', 0.5660989880561829),\n",
       " ('parisian', 0.5610954761505127)]"
      ]
     },
     "execution_count": 5,
     "metadata": {},
     "output_type": "execute_result"
    }
   ],
   "source": [
    "model.most_similar(\"paris\")"
   ]
  },
  {
   "cell_type": "code",
   "execution_count": 6,
   "metadata": {
    "ExecuteTime": {
     "end_time": "2019-08-20T19:21:26.489014Z",
     "start_time": "2019-08-20T19:21:26.310488Z"
    },
    "scrolled": false
   },
   "outputs": [
    {
     "data": {
      "text/plain": [
       "[('Patriot', 0.6601793169975281),\n",
       " ('patriots', 0.6437923908233643),\n",
       " ('Belichick', 0.6349618434906006),\n",
       " ('Pats', 0.5982685089111328),\n",
       " ('Jets', 0.5936493873596191),\n",
       " ('Yankees', 0.5920714735984802),\n",
       " ('Colts', 0.5846312046051025),\n",
       " ('Loyalists', 0.5817511677742004),\n",
       " ('Foxborough', 0.5756458640098572),\n",
       " ('Pinheads', 0.5730942487716675)]"
      ]
     },
     "execution_count": 6,
     "metadata": {},
     "output_type": "execute_result"
    }
   ],
   "source": [
    "model.most_similar(\"Patriots\")"
   ]
  },
  {
   "cell_type": "code",
   "execution_count": 7,
   "metadata": {
    "ExecuteTime": {
     "end_time": "2019-08-20T19:21:26.668537Z",
     "start_time": "2019-08-20T19:21:26.495514Z"
    },
    "scrolled": false
   },
   "outputs": [
    {
     "data": {
      "text/plain": [
       "[('horrors', 0.7225309014320374),\n",
       " ('vacui', 0.7215431928634644),\n",
       " ('Horror', 0.6863996982574463),\n",
       " ('terror', 0.6607047319412231),\n",
       " ('horror-', 0.6300767660140991),\n",
       " ('dread', 0.6262253522872925),\n",
       " ('shock', 0.6225302219390869),\n",
       " ('disgust', 0.6216938495635986),\n",
       " ('revulsion', 0.6216208934783936),\n",
       " ('carnage', 0.6162040829658508)]"
      ]
     },
     "execution_count": 7,
     "metadata": {},
     "output_type": "execute_result"
    }
   ],
   "source": [
    "model.most_similar(\"horror\")"
   ]
  },
  {
   "cell_type": "code",
   "execution_count": 8,
   "metadata": {
    "ExecuteTime": {
     "end_time": "2019-08-20T19:21:26.873983Z",
     "start_time": "2019-08-20T19:21:26.679504Z"
    }
   },
   "outputs": [
    {
     "data": {
      "text/plain": [
       "[('horrors', 0.7225309014320374),\n",
       " ('vacui', 0.7215431928634644),\n",
       " ('Horror', 0.6863996982574463),\n",
       " ('terror', 0.6607047319412231),\n",
       " ('horror-', 0.6300767660140991),\n",
       " ('dread', 0.6262253522872925),\n",
       " ('shock', 0.6225302219390869),\n",
       " ('disgust', 0.6216938495635986),\n",
       " ('revulsion', 0.6216208934783936),\n",
       " ('carnage', 0.6162040829658508)]"
      ]
     },
     "execution_count": 8,
     "metadata": {},
     "output_type": "execute_result"
    }
   ],
   "source": [
    "model.most_similar(\"horror\")"
   ]
  },
  {
   "cell_type": "markdown",
   "metadata": {},
   "source": [
    "## Analogies"
   ]
  },
  {
   "cell_type": "code",
   "execution_count": 9,
   "metadata": {
    "ExecuteTime": {
     "end_time": "2019-08-20T19:21:26.891959Z",
     "start_time": "2019-08-20T19:21:26.879978Z"
    }
   },
   "outputs": [],
   "source": [
    "# Defined analogy function from Matt Brem's 8.07-lesson-word_vectors lecture\n",
    "def analogy(x1, x2, y1):\n",
    "    \n",
    "    # Find the vector y2 that is closest to $-x1 + x2 + y1$.\n",
    "    y2 = model.most_similar(positive = [x2, y1],\n",
    "                            negative = [x1]\n",
    "                           )\n",
    "    \n",
    "    # Return the result.\n",
    "    return y2[0:5]"
   ]
  },
  {
   "cell_type": "code",
   "execution_count": 10,
   "metadata": {
    "ExecuteTime": {
     "end_time": "2019-08-20T19:21:27.078436Z",
     "start_time": "2019-08-20T19:21:26.896391Z"
    }
   },
   "outputs": [
    {
     "data": {
      "text/plain": [
       "[('woman', 0.753937840461731),\n",
       " ('lady', 0.6499068737030029),\n",
       " ('girl', 0.638054370880127),\n",
       " ('woman.', 0.5773338079452515),\n",
       " ('ladies', 0.5718774795532227)]"
      ]
     },
     "execution_count": 10,
     "metadata": {},
     "output_type": "execute_result"
    }
   ],
   "source": [
    "analogy('king', 'man', 'queen')"
   ]
  },
  {
   "cell_type": "code",
   "execution_count": 11,
   "metadata": {
    "ExecuteTime": {
     "end_time": "2019-08-20T19:21:27.228035Z",
     "start_time": "2019-08-20T19:21:27.081650Z"
    }
   },
   "outputs": [
    {
     "data": {
      "text/plain": [
       "[('Manning', 0.5556954145431519),\n",
       " ('Quinn', 0.5208401679992676),\n",
       " ('Indianapolis', 0.5073986053466797),\n",
       " ('Fitzpatrick', 0.5040283203125),\n",
       " ('Irsay', 0.5014162063598633)]"
      ]
     },
     "execution_count": 11,
     "metadata": {},
     "output_type": "execute_result"
    }
   ],
   "source": [
    "analogy('Patriots', 'Brady', 'Colts')"
   ]
  },
  {
   "cell_type": "code",
   "execution_count": 12,
   "metadata": {
    "ExecuteTime": {
     "end_time": "2019-08-20T19:21:27.385717Z",
     "start_time": "2019-08-20T19:21:27.233025Z"
    },
    "scrolled": true
   },
   "outputs": [
    {
     "data": {
      "text/plain": [
       "[('Bryant', 0.5939937829971313),\n",
       " ('Bynum', 0.5582961440086365),\n",
       " ('Polk', 0.5395814180374146),\n",
       " ('L.A.', 0.5291492342948914),\n",
       " ('Billups', 0.5213277339935303)]"
      ]
     },
     "execution_count": 12,
     "metadata": {},
     "output_type": "execute_result"
    }
   ],
   "source": [
    "analogy('Celtics', 'Pierce', 'Lakers')"
   ]
  },
  {
   "cell_type": "code",
   "execution_count": 13,
   "metadata": {
    "ExecuteTime": {
     "end_time": "2019-08-20T19:21:27.532222Z",
     "start_time": "2019-08-20T19:21:27.389606Z"
    }
   },
   "outputs": [
    {
     "data": {
      "text/plain": [
       "[('Boston', 0.6026748418807983),\n",
       " ('Garnett', 0.5499175786972046),\n",
       " ('Yokohama', 0.541107177734375),\n",
       " ('Osaka', 0.5344139337539673),\n",
       " ('Bryant', 0.5315791964530945)]"
      ]
     },
     "execution_count": 13,
     "metadata": {},
     "output_type": "execute_result"
    }
   ],
   "source": [
    "analogy('Lakers', 'Kobe', 'Celtics')"
   ]
  },
  {
   "cell_type": "code",
   "execution_count": 14,
   "metadata": {
    "ExecuteTime": {
     "end_time": "2019-08-20T19:21:27.695785Z",
     "start_time": "2019-08-20T19:21:27.537211Z"
    }
   },
   "outputs": [
    {
     "data": {
      "text/plain": [
       "[('cars', 0.5791646242141724),\n",
       " ('gas', 0.5748715400695801),\n",
       " ('electricity', 0.5438234806060791),\n",
       " ('automobile', 0.5395369529724121),\n",
       " ('radiator', 0.5376136302947998)]"
      ]
     },
     "execution_count": 14,
     "metadata": {},
     "output_type": "execute_result"
    }
   ],
   "source": [
    "analogy('boat', 'water', 'car')"
   ]
  },
  {
   "cell_type": "code",
   "execution_count": 15,
   "metadata": {
    "ExecuteTime": {
     "end_time": "2019-08-20T19:21:27.841396Z",
     "start_time": "2019-08-20T19:21:27.699775Z"
    },
    "scrolled": true
   },
   "outputs": [
    {
     "data": {
      "text/plain": [
       "[('boats', 0.5878316164016724),\n",
       " ('Boat', 0.5235381722450256),\n",
       " ('sail', 0.5186602473258972),\n",
       " ('ship', 0.5087074637413025),\n",
       " ('yacht', 0.5012125372886658)]"
      ]
     },
     "execution_count": 15,
     "metadata": {},
     "output_type": "execute_result"
    }
   ],
   "source": [
    "analogy('water', 'boat', 'air')"
   ]
  },
  {
   "cell_type": "code",
   "execution_count": 16,
   "metadata": {
    "ExecuteTime": {
     "end_time": "2019-08-20T19:21:27.994075Z",
     "start_time": "2019-08-20T19:21:27.845396Z"
    }
   },
   "outputs": [
    {
     "data": {
      "text/plain": [
       "[('planes', 0.5923014879226685),\n",
       " ('Plane', 0.5528974533081055),\n",
       " ('path', 0.5325206518173218),\n",
       " ('roads', 0.5115008354187012),\n",
       " ('highway', 0.49204421043395996)]"
      ]
     },
     "execution_count": 16,
     "metadata": {},
     "output_type": "execute_result"
    }
   ],
   "source": [
    "analogy('car', 'road', 'plane')"
   ]
  },
  {
   "cell_type": "code",
   "execution_count": 17,
   "metadata": {
    "ExecuteTime": {
     "end_time": "2019-08-20T19:21:28.160676Z",
     "start_time": "2019-08-20T19:21:27.997979Z"
    },
    "scrolled": true
   },
   "outputs": [
    {
     "data": {
      "text/plain": [
       "[('Thompson', 0.6217242479324341),\n",
       " ('Grimes', 0.6187807321548462),\n",
       " ('Barron', 0.5931583642959595),\n",
       " ('Edwards', 0.592224657535553),\n",
       " ('Bernie', 0.5888930559158325)]"
      ]
     },
     "execution_count": 17,
     "metadata": {},
     "output_type": "execute_result"
    }
   ],
   "source": [
    "analogy('Democrats', 'Sanders', 'Republicans')"
   ]
  },
  {
   "cell_type": "code",
   "execution_count": 18,
   "metadata": {
    "ExecuteTime": {
     "end_time": "2019-08-20T19:21:28.336078Z",
     "start_time": "2019-08-20T19:21:28.163536Z"
    },
    "scrolled": false
   },
   "outputs": [
    {
     "data": {
      "text/plain": [
       "[('radioactive', 0.5445190668106079),\n",
       " ('Cobalt-60', 0.5009844303131104),\n",
       " ('Radiation', 0.49178439378738403),\n",
       " ('Strontium-90', 0.4910478889942169),\n",
       " ('radio-active', 0.49061498045921326)]"
      ]
     },
     "execution_count": 18,
     "metadata": {},
     "output_type": "execute_result"
    }
   ],
   "source": [
    "analogy('Relativity', 'Einstein', 'Radioactive')"
   ]
  },
  {
   "cell_type": "code",
   "execution_count": 19,
   "metadata": {
    "ExecuteTime": {
     "end_time": "2019-08-20T19:21:28.510607Z",
     "start_time": "2019-08-20T19:21:28.341060Z"
    },
    "scrolled": false
   },
   "outputs": [
    {
     "data": {
      "text/plain": [
       "[('snake', 0.6327941417694092),\n",
       " ('lizard', 0.6180065870285034),\n",
       " ('alligator', 0.6025699377059937),\n",
       " ('reptiles', 0.5780291557312012),\n",
       " ('crocodile', 0.5662187337875366)]"
      ]
     },
     "execution_count": 19,
     "metadata": {},
     "output_type": "execute_result"
    }
   ],
   "source": [
    "analogy('marsupial', 'kangaroo', 'reptile')"
   ]
  },
  {
   "cell_type": "code",
   "execution_count": 20,
   "metadata": {
    "ExecuteTime": {
     "end_time": "2019-08-20T19:21:28.689129Z",
     "start_time": "2019-08-20T19:21:28.514596Z"
    }
   },
   "outputs": [
    {
     "data": {
      "text/plain": [
       "[('China', 0.6456860303878784),\n",
       " ('Canada', 0.6077251434326172),\n",
       " ('Japan', 0.599372386932373),\n",
       " ('England', 0.597453236579895),\n",
       " ('Scotland', 0.5934302806854248)]"
      ]
     },
     "execution_count": 20,
     "metadata": {},
     "output_type": "execute_result"
    }
   ],
   "source": [
    "analogy('koalas', 'Australia', 'pandas')"
   ]
  },
  {
   "cell_type": "code",
   "execution_count": 21,
   "metadata": {
    "ExecuteTime": {
     "end_time": "2019-08-20T19:21:28.857680Z",
     "start_time": "2019-08-20T19:21:28.692122Z"
    }
   },
   "outputs": [
    {
     "data": {
      "text/plain": [
       "[('kitten', 0.7715554237365723),\n",
       " ('cats', 0.6936104893684387),\n",
       " ('kittens', 0.6866230964660645),\n",
       " ('kitty', 0.6578243970870972),\n",
       " ('kitties', 0.6480454206466675)]"
      ]
     },
     "execution_count": 21,
     "metadata": {},
     "output_type": "execute_result"
    }
   ],
   "source": [
    "analogy('dog', 'puppy', 'cat')"
   ]
  },
  {
   "cell_type": "markdown",
   "metadata": {
    "ExecuteTime": {
     "end_time": "2019-08-23T14:08:24.287901Z",
     "start_time": "2019-08-23T14:08:24.264959Z"
    }
   },
   "source": [
    "## Pickling the Model"
   ]
  },
  {
   "cell_type": "code",
   "execution_count": 22,
   "metadata": {
    "ExecuteTime": {
     "end_time": "2019-08-20T19:22:22.124645Z",
     "start_time": "2019-08-20T19:21:28.860670Z"
    }
   },
   "outputs": [],
   "source": [
    "pickle.dump(model, open('wiki_news_model.p', 'wb'))"
   ]
  },
  {
   "cell_type": "markdown",
   "metadata": {},
   "source": [
    "## References:\n",
    "- https://www.shanelynn.ie/word-embeddings-in-python-with-spacy-and-gensim/"
   ]
  }
 ],
 "metadata": {
  "kernelspec": {
   "display_name": "Python [conda env:dsi] *",
   "language": "python",
   "name": "conda-env-dsi-py"
  },
  "language_info": {
   "codemirror_mode": {
    "name": "ipython",
    "version": 3
   },
   "file_extension": ".py",
   "mimetype": "text/x-python",
   "name": "python",
   "nbconvert_exporter": "python",
   "pygments_lexer": "ipython3",
   "version": "3.7.3"
  },
  "toc": {
   "base_numbering": 1,
   "nav_menu": {},
   "number_sections": true,
   "sideBar": true,
   "skip_h1_title": false,
   "title_cell": "Table of Contents",
   "title_sidebar": "Contents",
   "toc_cell": true,
   "toc_position": {},
   "toc_section_display": true,
   "toc_window_display": false
  },
  "varInspector": {
   "cols": {
    "lenName": 16,
    "lenType": 16,
    "lenVar": 40
   },
   "kernels_config": {
    "python": {
     "delete_cmd_postfix": "",
     "delete_cmd_prefix": "del ",
     "library": "var_list.py",
     "varRefreshCmd": "print(var_dic_list())"
    },
    "r": {
     "delete_cmd_postfix": ") ",
     "delete_cmd_prefix": "rm(",
     "library": "var_list.r",
     "varRefreshCmd": "cat(var_dic_list()) "
    }
   },
   "types_to_exclude": [
    "module",
    "function",
    "builtin_function_or_method",
    "instance",
    "_Feature"
   ],
   "window_display": false
  }
 },
 "nbformat": 4,
 "nbformat_minor": 2
}
