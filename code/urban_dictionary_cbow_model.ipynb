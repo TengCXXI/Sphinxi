{
 "cells": [
  {
   "cell_type": "markdown",
   "metadata": {
    "toc": true
   },
   "source": [
    "<h1>Table of Contents<span class=\"tocSkip\"></span></h1>\n",
    "<div class=\"toc\"><ul class=\"toc-item\"><li><span><a href=\"#Urban-Dictionary---Model-for-Word-Similarities-and-Analogies\" data-toc-modified-id=\"Urban-Dictionary---Model-for-Word-Similarities-and-Analogies-1\"><span class=\"toc-item-num\">1&nbsp;&nbsp;</span>Urban Dictionary - Model for Word Similarities and Analogies</a></span><ul class=\"toc-item\"><li><span><a href=\"#Load-Vectors\" data-toc-modified-id=\"Load-Vectors-1.1\"><span class=\"toc-item-num\">1.1&nbsp;&nbsp;</span>Load Vectors</a></span></li><li><span><a href=\"#Most-Similar-Words\" data-toc-modified-id=\"Most-Similar-Words-1.2\"><span class=\"toc-item-num\">1.2&nbsp;&nbsp;</span>Most Similar Words</a></span></li><li><span><a href=\"#Analogies\" data-toc-modified-id=\"Analogies-1.3\"><span class=\"toc-item-num\">1.3&nbsp;&nbsp;</span>Analogies</a></span></li></ul></li></ul></div>"
   ]
  },
  {
   "cell_type": "markdown",
   "metadata": {},
   "source": [
    "# Urban Dictionary - Model for Word Similarities and Analogies"
   ]
  },
  {
   "cell_type": "markdown",
   "metadata": {},
   "source": [
    "## Load Vectors"
   ]
  },
  {
   "cell_type": "code",
   "execution_count": 1,
   "metadata": {
    "ExecuteTime": {
     "end_time": "2019-08-26T14:44:09.152464Z",
     "start_time": "2019-08-26T14:44:07.995953Z"
    }
   },
   "outputs": [],
   "source": [
    "from gensim.models import KeyedVectors"
   ]
  },
  {
   "cell_type": "code",
   "execution_count": 2,
   "metadata": {
    "ExecuteTime": {
     "end_time": "2019-08-26T14:44:22.277009Z",
     "start_time": "2019-08-26T14:44:09.155108Z"
    }
   },
   "outputs": [
    {
     "name": "stderr",
     "output_type": "stream",
     "text": [
      "C:\\Users\\tengw\\Anaconda3\\envs\\dsi\\lib\\site-packages\\smart_open\\smart_open_lib.py:398: UserWarning: This function is deprecated, use smart_open.open instead. See the migration notes for details: https://github.com/RaRe-Technologies/smart_open/blob/master/README.rst#migrating-to-the-new-open-function\n",
      "  'See the migration notes for details: %s' % _MIGRATION_NOTES_URL\n"
     ]
    }
   ],
   "source": [
    "model = KeyedVectors.load_word2vec_format('../data/urban_dictionary_cbow.vec', limit=50000) "
   ]
  },
  {
   "cell_type": "code",
   "execution_count": 3,
   "metadata": {
    "ExecuteTime": {
     "end_time": "2019-08-26T14:44:22.285613Z",
     "start_time": "2019-08-26T14:44:22.279634Z"
    }
   },
   "outputs": [],
   "source": [
    "vector = model['easy']"
   ]
  },
  {
   "cell_type": "code",
   "execution_count": 4,
   "metadata": {
    "ExecuteTime": {
     "end_time": "2019-08-26T14:44:22.329015Z",
     "start_time": "2019-08-26T14:44:22.296585Z"
    }
   },
   "outputs": [
    {
     "data": {
      "text/plain": [
       "(300,)"
      ]
     },
     "execution_count": 4,
     "metadata": {},
     "output_type": "execute_result"
    }
   ],
   "source": [
    "vector.shape"
   ]
  },
  {
   "cell_type": "markdown",
   "metadata": {},
   "source": [
    "## Most Similar Words"
   ]
  },
  {
   "cell_type": "code",
   "execution_count": 5,
   "metadata": {
    "ExecuteTime": {
     "end_time": "2019-08-26T14:44:22.560911Z",
     "start_time": "2019-08-26T14:44:22.343973Z"
    },
    "scrolled": true
   },
   "outputs": [
    {
     "data": {
      "text/plain": [
       "[('goth', 0.7657759189605713),\n",
       " ('scene', 0.6898561120033264),\n",
       " ('indie', 0.6659802198410034),\n",
       " ('emos', 0.6550899744033813),\n",
       " ('hxc', 0.6247496604919434),\n",
       " ('poser', 0.6124014854431152),\n",
       " ('emo_kid', 0.6050216555595398),\n",
       " ('emo_kids', 0.5947600603103638),\n",
       " ('posers', 0.5925034284591675),\n",
       " ('scene_kid', 0.5797880291938782)]"
      ]
     },
     "execution_count": 5,
     "metadata": {},
     "output_type": "execute_result"
    }
   ],
   "source": [
    "model.most_similar('emo')"
   ]
  },
  {
   "cell_type": "code",
   "execution_count": 6,
   "metadata": {
    "ExecuteTime": {
     "end_time": "2019-08-26T14:44:22.580857Z",
     "start_time": "2019-08-26T14:44:22.562904Z"
    }
   },
   "outputs": [
    {
     "data": {
      "text/plain": [
       "[('chill', 0.4159855842590332),\n",
       " ('hulu', 0.4150336980819702),\n",
       " ('gables', 0.3641550540924072),\n",
       " ('netflix', 0.35004091262817383),\n",
       " ('tcp', 0.31752723455429077),\n",
       " ('halle', 0.314273476600647),\n",
       " ('bruh', 0.305644690990448),\n",
       " ('relax', 0.29730504751205444),\n",
       " ('reef', 0.29695141315460205),\n",
       " ('buddy', 0.2959865927696228)]"
      ]
     },
     "execution_count": 6,
     "metadata": {},
     "output_type": "execute_result"
    }
   ],
   "source": [
    "model.most_similar('netflix_and_chill')"
   ]
  },
  {
   "cell_type": "code",
   "execution_count": 7,
   "metadata": {
    "ExecuteTime": {
     "end_time": "2019-08-26T14:44:22.591828Z",
     "start_time": "2019-08-26T14:44:22.583850Z"
    }
   },
   "outputs": [],
   "source": [
    "# Define analogy function.\n",
    "def analogy(x1, x2, y1):\n",
    "    \n",
    "    # Find the vector y2 that is closest to $-x1 + x2 + y1$.\n",
    "    y2 = model.most_similar(positive = [x2, y1],\n",
    "                            negative = [x1]\n",
    "                           )\n",
    "    \n",
    "    # Return the result.\n",
    "    return y2[0:5]"
   ]
  },
  {
   "cell_type": "markdown",
   "metadata": {},
   "source": [
    "## Analogies"
   ]
  },
  {
   "cell_type": "code",
   "execution_count": 8,
   "metadata": {
    "ExecuteTime": {
     "end_time": "2019-08-26T14:44:22.638703Z",
     "start_time": "2019-08-26T14:44:22.597814Z"
    }
   },
   "outputs": [
    {
     "data": {
      "text/plain": [
       "[('smoking', 0.42697983980178833),\n",
       " ('cheeba', 0.3889574110507965),\n",
       " ('smokeing', 0.3823520541191101),\n",
       " ('smokes', 0.37735360860824585),\n",
       " ('tokin', 0.3549501299858093)]"
      ]
     },
     "execution_count": 8,
     "metadata": {},
     "output_type": "execute_result"
    }
   ],
   "source": [
    "analogy(\"sex\", \"netflix_and_chill\", \"smoke\")"
   ]
  },
  {
   "cell_type": "code",
   "execution_count": 9,
   "metadata": {
    "ExecuteTime": {
     "end_time": "2019-08-26T14:44:22.658651Z",
     "start_time": "2019-08-26T14:44:22.642692Z"
    },
    "scrolled": true
   },
   "outputs": [
    {
     "data": {
      "text/plain": [
       "[('arse', 0.4803463816642761),\n",
       " ('butt', 0.4420391321182251),\n",
       " ('asses', 0.3815094530582428),\n",
       " ('nuts', 0.33763939142227173),\n",
       " ('asshole', 0.3197252154350281)]"
      ]
     },
     "execution_count": 9,
     "metadata": {},
     "output_type": "execute_result"
    }
   ],
   "source": [
    "analogy(\"peach\", \"ass\", \"banana\")"
   ]
  },
  {
   "cell_type": "code",
   "execution_count": 10,
   "metadata": {
    "ExecuteTime": {
     "end_time": "2019-08-26T14:44:22.695575Z",
     "start_time": "2019-08-26T14:44:22.661642Z"
    }
   },
   "outputs": [
    {
     "data": {
      "text/plain": [
       "[('arse', 0.3575402796268463),\n",
       " ('butthole', 0.35576629638671875),\n",
       " ('cunningham', 0.34735044836997986),\n",
       " ('chris', 0.34149596095085144),\n",
       " ('buttcrack', 0.3367059826850891)]"
      ]
     },
     "execution_count": 10,
     "metadata": {},
     "output_type": "execute_result"
    }
   ],
   "source": [
    "analogy(\"booty\", \"butt\", \"johnson\")"
   ]
  },
  {
   "cell_type": "code",
   "execution_count": 11,
   "metadata": {
    "ExecuteTime": {
     "end_time": "2019-08-26T14:44:22.729460Z",
     "start_time": "2019-08-26T14:44:22.701535Z"
    }
   },
   "outputs": [
    {
     "data": {
      "text/plain": [
       "[('triceps', 0.29202800989151),\n",
       " ('marilyn', 0.2904585599899292),\n",
       " ('collect', 0.26068297028541565),\n",
       " ('dispose', 0.2550708055496216),\n",
       " ('alikes', 0.25456947088241577)]"
      ]
     },
     "execution_count": 11,
     "metadata": {},
     "output_type": "execute_result"
    }
   ],
   "source": [
    "analogy(\"yeet\", \"discard\", \"kobe\")"
   ]
  }
 ],
 "metadata": {
  "kernelspec": {
   "display_name": "Python [conda env:dsi] *",
   "language": "python",
   "name": "conda-env-dsi-py"
  },
  "language_info": {
   "codemirror_mode": {
    "name": "ipython",
    "version": 3
   },
   "file_extension": ".py",
   "mimetype": "text/x-python",
   "name": "python",
   "nbconvert_exporter": "python",
   "pygments_lexer": "ipython3",
   "version": "3.7.3"
  },
  "toc": {
   "base_numbering": 1,
   "nav_menu": {},
   "number_sections": true,
   "sideBar": true,
   "skip_h1_title": false,
   "title_cell": "Table of Contents",
   "title_sidebar": "Contents",
   "toc_cell": true,
   "toc_position": {},
   "toc_section_display": true,
   "toc_window_display": false
  },
  "varInspector": {
   "cols": {
    "lenName": 16,
    "lenType": 16,
    "lenVar": 40
   },
   "kernels_config": {
    "python": {
     "delete_cmd_postfix": "",
     "delete_cmd_prefix": "del ",
     "library": "var_list.py",
     "varRefreshCmd": "print(var_dic_list())"
    },
    "r": {
     "delete_cmd_postfix": ") ",
     "delete_cmd_prefix": "rm(",
     "library": "var_list.r",
     "varRefreshCmd": "cat(var_dic_list()) "
    }
   },
   "types_to_exclude": [
    "module",
    "function",
    "builtin_function_or_method",
    "instance",
    "_Feature"
   ],
   "window_display": false
  }
 },
 "nbformat": 4,
 "nbformat_minor": 2
}
