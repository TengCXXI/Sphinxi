{
 "cells": [
  {
   "cell_type": "markdown",
   "metadata": {
    "toc": true
   },
   "source": [
    "<h1>Table of Contents<span class=\"tocSkip\"></span></h1>\n",
    "<div class=\"toc\"><ul class=\"toc-item\"><li><span><a href=\"#Google-News---Model-for-Word-Similarities-and-Analogies\" data-toc-modified-id=\"Google-News---Model-for-Word-Similarities-and-Analogies-1\"><span class=\"toc-item-num\">1&nbsp;&nbsp;</span>Google News - Model for Word Similarities and Analogies</a></span><ul class=\"toc-item\"><li><span><a href=\"#Load-Vectors\" data-toc-modified-id=\"Load-Vectors-1.1\"><span class=\"toc-item-num\">1.1&nbsp;&nbsp;</span>Load Vectors</a></span></li><li><span><a href=\"#Most-Similar-Words\" data-toc-modified-id=\"Most-Similar-Words-1.2\"><span class=\"toc-item-num\">1.2&nbsp;&nbsp;</span>Most Similar Words</a></span></li><li><span><a href=\"#Analogies\" data-toc-modified-id=\"Analogies-1.3\"><span class=\"toc-item-num\">1.3&nbsp;&nbsp;</span>Analogies</a></span></li><li><span><a href=\"#References:\" data-toc-modified-id=\"References:-1.4\"><span class=\"toc-item-num\">1.4&nbsp;&nbsp;</span>References:</a></span></li></ul></li></ul></div>"
   ]
  },
  {
   "cell_type": "markdown",
   "metadata": {},
   "source": [
    "# Google News - Model for Word Similarities and Analogies"
   ]
  },
  {
   "cell_type": "markdown",
   "metadata": {},
   "source": [
    "- Google News dataset (about 100 billion words). https://code.google.com/archive/p/word2vec/"
   ]
  },
  {
   "cell_type": "code",
   "execution_count": 1,
   "metadata": {
    "scrolled": true
   },
   "outputs": [],
   "source": [
    "from gensim.models import KeyedVectors"
   ]
  },
  {
   "cell_type": "markdown",
   "metadata": {},
   "source": [
    "## Load Vectors"
   ]
  },
  {
   "cell_type": "code",
   "execution_count": 2,
   "metadata": {
    "scrolled": true
   },
   "outputs": [
    {
     "name": "stderr",
     "output_type": "stream",
     "text": [
      "C:\\Users\\tengw\\Anaconda3\\envs\\dsi\\lib\\site-packages\\smart_open\\smart_open_lib.py:398: UserWarning: This function is deprecated, use smart_open.open instead. See the migration notes for details: https://github.com/RaRe-Technologies/smart_open/blob/master/README.rst#migrating-to-the-new-open-function\n",
      "  'See the migration notes for details: %s' % _MIGRATION_NOTES_URL\n"
     ]
    }
   ],
   "source": [
    "model = KeyedVectors.load_word2vec_format('../data/GoogleNews-vectors-negative300.bin', binary=True) "
   ]
  },
  {
   "cell_type": "code",
   "execution_count": 3,
   "metadata": {},
   "outputs": [],
   "source": [
    "vector = model['easy']"
   ]
  },
  {
   "cell_type": "code",
   "execution_count": 4,
   "metadata": {},
   "outputs": [
    {
     "data": {
      "text/plain": [
       "(300,)"
      ]
     },
     "execution_count": 4,
     "metadata": {},
     "output_type": "execute_result"
    }
   ],
   "source": [
    "# see the shape of the vector (300,)\n",
    "vector.shape"
   ]
  },
  {
   "cell_type": "markdown",
   "metadata": {},
   "source": [
    "## Most Similar Words"
   ]
  },
  {
   "cell_type": "code",
   "execution_count": 28,
   "metadata": {},
   "outputs": [
    {
     "data": {
      "text/plain": [
       "[('heidi', 0.5592166781425476),\n",
       " ('london', 0.5555775165557861),\n",
       " ('france', 0.5550795793533325),\n",
       " ('dubai', 0.5532332062721252),\n",
       " ('samuel', 0.549419641494751),\n",
       " ('hilton', 0.547286868095398),\n",
       " ('rome', 0.5465837717056274),\n",
       " ('toronto', 0.5457152128219604),\n",
       " ('las_vegas', 0.5441739559173584),\n",
       " ('lindsay_lohan', 0.542733907699585)]"
      ]
     },
     "execution_count": 28,
     "metadata": {},
     "output_type": "execute_result"
    }
   ],
   "source": [
    "model.most_similar(\"paris\")"
   ]
  },
  {
   "cell_type": "code",
   "execution_count": 21,
   "metadata": {
    "scrolled": false
   },
   "outputs": [
    {
     "data": {
      "text/plain": [
       "[('Pats', 0.8335539102554321),\n",
       " ('England_Patriots', 0.7392532825469971),\n",
       " ('Chargers', 0.7253955602645874),\n",
       " ('Colts', 0.7224483489990234),\n",
       " ('Ravens', 0.713590145111084),\n",
       " ('Jaguars', 0.7130789160728455),\n",
       " ('Raiders', 0.6845588684082031),\n",
       " ('Seahawks', 0.679696798324585),\n",
       " ('Bengals', 0.6778127551078796),\n",
       " ('Belichick', 0.6755526065826416)]"
      ]
     },
     "execution_count": 21,
     "metadata": {},
     "output_type": "execute_result"
    }
   ],
   "source": [
    "model.most_similar(\"Patriots\")"
   ]
  },
  {
   "cell_type": "code",
   "execution_count": 24,
   "metadata": {
    "scrolled": false
   },
   "outputs": [
    {
     "data": {
      "text/plain": [
       "[('Horror', 0.6535302996635437),\n",
       " ('FEARnet_branded_VOD', 0.640731692314148),\n",
       " ('horror_flick', 0.636589765548706),\n",
       " ('horror_flicks', 0.6232799291610718),\n",
       " ('horror_genre', 0.5905603766441345),\n",
       " ('horrors', 0.5886811017990112),\n",
       " ('MONTGOMERY_Ala._Hogzilla', 0.5770230889320374),\n",
       " ('horrifying', 0.5756762027740479),\n",
       " ('slasher_movies', 0.5708181858062744),\n",
       " ('highly_successful_FEARNet', 0.5689955353736877)]"
      ]
     },
     "execution_count": 24,
     "metadata": {},
     "output_type": "execute_result"
    }
   ],
   "source": [
    "model.most_similar(\"horror\")"
   ]
  },
  {
   "cell_type": "markdown",
   "metadata": {},
   "source": [
    "## Analogies"
   ]
  },
  {
   "cell_type": "code",
   "execution_count": 7,
   "metadata": {},
   "outputs": [],
   "source": [
    "# Defined analogy function from Matt Brem's 8.07-lesson-word_vectors lecture\n",
    "def analogy(x1, x2, y1):\n",
    "    \n",
    "    # Find the vector y2 that is closest to $-x1 + x2 + y1$.\n",
    "    y2 = model.most_similar(positive = [x2, y1],\n",
    "                            negative = [x1]\n",
    "                           )\n",
    "    \n",
    "    # Return the result.\n",
    "    return y2[0:5]"
   ]
  },
  {
   "cell_type": "code",
   "execution_count": 8,
   "metadata": {},
   "outputs": [
    {
     "data": {
      "text/plain": [
       "[('woman', 0.7609435319900513),\n",
       " ('girl', 0.6139993667602539),\n",
       " ('teenage_girl', 0.6040961742401123),\n",
       " ('teenager', 0.5825759172439575),\n",
       " ('lady', 0.5752554535865784)]"
      ]
     },
     "execution_count": 8,
     "metadata": {},
     "output_type": "execute_result"
    }
   ],
   "source": [
    "analogy('king', 'man', 'queen')"
   ]
  },
  {
   "cell_type": "code",
   "execution_count": 9,
   "metadata": {},
   "outputs": [
    {
     "data": {
      "text/plain": [
       "[('Manning', 0.6550586223602295),\n",
       " ('Peyton', 0.5699615478515625),\n",
       " ('Peyton_Manning', 0.545973002910614),\n",
       " ('Quinn', 0.5448070764541626),\n",
       " ('Brees', 0.543891966342926)]"
      ]
     },
     "execution_count": 9,
     "metadata": {},
     "output_type": "execute_result"
    }
   ],
   "source": [
    "analogy('Patriots', 'Brady', 'Colts')"
   ]
  },
  {
   "cell_type": "code",
   "execution_count": 10,
   "metadata": {
    "scrolled": true
   },
   "outputs": [
    {
     "data": {
      "text/plain": [
       "[('Elgin_Baylor', 0.5930103063583374),\n",
       " ('Karl_Malone', 0.5892456769943237),\n",
       " ('Isiah_Thomas', 0.5441676378250122),\n",
       " ('Pippen', 0.5420182347297668),\n",
       " ('Mitch_Kupchak', 0.541092574596405)]"
      ]
     },
     "execution_count": 10,
     "metadata": {},
     "output_type": "execute_result"
    }
   ],
   "source": [
    "analogy('Celtics', 'Larry_Bird', 'Lakers')"
   ]
  },
  {
   "cell_type": "code",
   "execution_count": 11,
   "metadata": {
    "scrolled": true
   },
   "outputs": [
    {
     "data": {
      "text/plain": [
       "[('Bryant', 0.5742408037185669),\n",
       " ('Jackson', 0.5295051336288452),\n",
       " ('Olson', 0.4985114634037018),\n",
       " ('Tiedeman', 0.4913650155067444),\n",
       " ('Settell', 0.4880555272102356)]"
      ]
     },
     "execution_count": 11,
     "metadata": {},
     "output_type": "execute_result"
    }
   ],
   "source": [
    "analogy('Celtics', 'Pierce', 'Lakers')"
   ]
  },
  {
   "cell_type": "code",
   "execution_count": 12,
   "metadata": {},
   "outputs": [
    {
     "data": {
      "text/plain": [
       "[('LeBron', 0.6532590389251709),\n",
       " ('Rondo', 0.6276308298110962),\n",
       " ('Shaq', 0.5803154110908508),\n",
       " ('Scal', 0.5761805176734924),\n",
       " ('Ray_Allen', 0.5732669830322266)]"
      ]
     },
     "execution_count": 12,
     "metadata": {},
     "output_type": "execute_result"
    }
   ],
   "source": [
    "analogy('Lakers', 'Kobe', 'Celtics')"
   ]
  },
  {
   "cell_type": "code",
   "execution_count": 13,
   "metadata": {},
   "outputs": [
    {
     "data": {
      "text/plain": [
       "[('groundwater', 0.4783304035663605),\n",
       " ('rainwater', 0.4779373109340668),\n",
       " ('sewage', 0.46749722957611084),\n",
       " ('radiator_fluid', 0.4669908583164215),\n",
       " ('potable_water', 0.46251195669174194)]"
      ]
     },
     "execution_count": 13,
     "metadata": {},
     "output_type": "execute_result"
    }
   ],
   "source": [
    "analogy('boat', 'water', 'car')"
   ]
  },
  {
   "cell_type": "code",
   "execution_count": 14,
   "metadata": {
    "scrolled": true
   },
   "outputs": [
    {
     "data": {
      "text/plain": [
       "[('boats', 0.53016597032547),\n",
       " ('fishing_boat', 0.5212044715881348),\n",
       " ('yacht', 0.508728563785553),\n",
       " ('sailboat', 0.4892630875110626),\n",
       " ('catamaran', 0.4817970097064972)]"
      ]
     },
     "execution_count": 14,
     "metadata": {},
     "output_type": "execute_result"
    }
   ],
   "source": [
    "analogy('water', 'boat', 'land')"
   ]
  },
  {
   "cell_type": "code",
   "execution_count": 15,
   "metadata": {},
   "outputs": [
    {
     "data": {
      "text/plain": [
       "[('taxiway', 0.4776880145072937),\n",
       " ('airstrip', 0.4755459725856781),\n",
       " ('flight', 0.4695979058742523),\n",
       " ('runway', 0.4666566252708435),\n",
       " ('runway_##L', 0.4620146155357361)]"
      ]
     },
     "execution_count": 15,
     "metadata": {},
     "output_type": "execute_result"
    }
   ],
   "source": [
    "analogy('car', 'road', 'plane')"
   ]
  },
  {
   "cell_type": "code",
   "execution_count": 16,
   "metadata": {
    "scrolled": true
   },
   "outputs": [
    {
     "data": {
      "text/plain": [
       "[('Simmons', 0.6856235265731812),\n",
       " ('Brooks', 0.6709005832672119),\n",
       " ('Gaines', 0.667994499206543),\n",
       " ('Smith', 0.6595635414123535),\n",
       " ('Mathis', 0.65949946641922)]"
      ]
     },
     "execution_count": 16,
     "metadata": {},
     "output_type": "execute_result"
    }
   ],
   "source": [
    "analogy('Democrats', 'Sanders', 'Republicans')"
   ]
  },
  {
   "cell_type": "code",
   "execution_count": 17,
   "metadata": {
    "scrolled": false
   },
   "outputs": [
    {
     "data": {
      "text/plain": [
       "[('Curies', 0.4639900326728821),\n",
       " ('Henri_Becquerel', 0.44828474521636963),\n",
       " ('radioactive', 0.444367378950119),\n",
       " ('Glenn_Seaborg', 0.4161487817764282),\n",
       " ('monoxide', 0.41311734914779663)]"
      ]
     },
     "execution_count": 17,
     "metadata": {},
     "output_type": "execute_result"
    }
   ],
   "source": [
    "analogy('Relativity', 'Einstein', 'Radioactive')"
   ]
  },
  {
   "cell_type": "code",
   "execution_count": 18,
   "metadata": {
    "scrolled": false
   },
   "outputs": [
    {
     "data": {
      "text/plain": [
       "[('crocodile', 0.5736047625541687),\n",
       " ('alligator', 0.5502463579177856),\n",
       " ('snake', 0.5465567708015442),\n",
       " ('reptiles', 0.5227020978927612),\n",
       " ('croc', 0.521094560623169)]"
      ]
     },
     "execution_count": 18,
     "metadata": {},
     "output_type": "execute_result"
    }
   ],
   "source": [
    "analogy('marsupial', 'kangaroo', 'reptile')"
   ]
  },
  {
   "cell_type": "code",
   "execution_count": 19,
   "metadata": {},
   "outputs": [
    {
     "data": {
      "text/plain": [
       "[('China', 0.5498158931732178),\n",
       " ('New_Zealand', 0.537071943283081),\n",
       " ('Japan', 0.521623969078064),\n",
       " ('Mongolia', 0.4757526218891144),\n",
       " ('Taiwan', 0.4721248149871826)]"
      ]
     },
     "execution_count": 19,
     "metadata": {},
     "output_type": "execute_result"
    }
   ],
   "source": [
    "analogy('koalas', 'Australia', 'pandas')"
   ]
  },
  {
   "cell_type": "code",
   "execution_count": 20,
   "metadata": {},
   "outputs": [
    {
     "data": {
      "text/plain": [
       "[('kitten', 0.7634989619255066),\n",
       " ('puppies', 0.7110899686813354),\n",
       " ('pup', 0.6929495334625244),\n",
       " ('kittens', 0.6888390183448792),\n",
       " ('cats', 0.6796488761901855)]"
      ]
     },
     "execution_count": 20,
     "metadata": {},
     "output_type": "execute_result"
    }
   ],
   "source": [
    "analogy('dog', 'puppy', 'cat')"
   ]
  },
  {
   "cell_type": "markdown",
   "metadata": {},
   "source": [
    "## References:\n",
    "- https://www.shanelynn.ie/word-embeddings-in-python-with-spacy-and-gensim/"
   ]
  }
 ],
 "metadata": {
  "kernelspec": {
   "display_name": "Python [conda env:dsi] *",
   "language": "python",
   "name": "conda-env-dsi-py"
  },
  "language_info": {
   "codemirror_mode": {
    "name": "ipython",
    "version": 3
   },
   "file_extension": ".py",
   "mimetype": "text/x-python",
   "name": "python",
   "nbconvert_exporter": "python",
   "pygments_lexer": "ipython3",
   "version": "3.7.3"
  },
  "toc": {
   "base_numbering": 1,
   "nav_menu": {},
   "number_sections": true,
   "sideBar": true,
   "skip_h1_title": false,
   "title_cell": "Table of Contents",
   "title_sidebar": "Contents",
   "toc_cell": true,
   "toc_position": {},
   "toc_section_display": true,
   "toc_window_display": false
  },
  "varInspector": {
   "cols": {
    "lenName": 16,
    "lenType": 16,
    "lenVar": 40
   },
   "kernels_config": {
    "python": {
     "delete_cmd_postfix": "",
     "delete_cmd_prefix": "del ",
     "library": "var_list.py",
     "varRefreshCmd": "print(var_dic_list())"
    },
    "r": {
     "delete_cmd_postfix": ") ",
     "delete_cmd_prefix": "rm(",
     "library": "var_list.r",
     "varRefreshCmd": "cat(var_dic_list()) "
    }
   },
   "types_to_exclude": [
    "module",
    "function",
    "builtin_function_or_method",
    "instance",
    "_Feature"
   ],
   "window_display": false
  }
 },
 "nbformat": 4,
 "nbformat_minor": 2
}
